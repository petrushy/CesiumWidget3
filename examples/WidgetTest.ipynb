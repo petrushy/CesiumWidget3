{
 "cells": [
  {
   "cell_type": "code",
   "execution_count": 1,
   "id": "refined-crown",
   "metadata": {},
   "outputs": [
    {
     "ename": "ImportError",
     "evalue": "cannot import name 'example' from 'cesiumwidget3' (/home/petrushy/Development/CesiumWidget3/cesiumwidget3/__init__.py)",
     "output_type": "error",
     "traceback": [
      "\u001b[0;31m---------------------------------------------------------------------------\u001b[0m",
      "\u001b[0;31mImportError\u001b[0m                               Traceback (most recent call last)",
      "\u001b[0;32m<ipython-input-1-6f943864837e>\u001b[0m in \u001b[0;36m<module>\u001b[0;34m\u001b[0m\n\u001b[0;32m----> 1\u001b[0;31m \u001b[0;32mfrom\u001b[0m \u001b[0mcesiumwidget3\u001b[0m \u001b[0;32mimport\u001b[0m \u001b[0mexample\u001b[0m\u001b[0;34m\u001b[0m\u001b[0;34m\u001b[0m\u001b[0m\n\u001b[0m",
      "\u001b[0;31mImportError\u001b[0m: cannot import name 'example' from 'cesiumwidget3' (/home/petrushy/Development/CesiumWidget3/cesiumwidget3/__init__.py)"
     ]
    }
   ],
   "source": [
    "from cesiumwidget3 import example"
   ]
  },
  {
   "cell_type": "code",
   "execution_count": 20,
   "id": "disabled-channels",
   "metadata": {},
   "outputs": [],
   "source": [
    "hello_world = example.HelloWorld()"
   ]
  },
  {
   "cell_type": "code",
   "execution_count": 21,
   "id": "atomic-contract",
   "metadata": {},
   "outputs": [
    {
     "data": {
      "application/vnd.jupyter.widget-view+json": {
       "model_id": "7c6c8dbe6ecb402ba6d278812a3112af",
       "version_major": 2,
       "version_minor": 0
      },
      "text/plain": [
       "HelloWorld()"
      ]
     },
     "metadata": {},
     "output_type": "display_data"
    }
   ],
   "source": [
    "hello_world"
   ]
  },
  {
   "cell_type": "code",
   "execution_count": null,
   "id": "killing-dragon",
   "metadata": {},
   "outputs": [],
   "source": []
  },
  {
   "cell_type": "code",
   "execution_count": 2,
   "id": "technological-myanmar",
   "metadata": {},
   "outputs": [],
   "source": [
    "from cesiumwidget3 import CesiumWidget"
   ]
  },
  {
   "cell_type": "code",
   "execution_count": 3,
   "id": "frozen-litigation",
   "metadata": {},
   "outputs": [],
   "source": [
    "widget = CesiumWidget()"
   ]
  },
  {
   "cell_type": "code",
   "execution_count": 4,
   "id": "black-contributor",
   "metadata": {},
   "outputs": [
    {
     "data": {
      "application/vnd.jupyter.widget-view+json": {
       "model_id": "09cd50753dbb42d49c066e7d17c5f621",
       "version_major": 2,
       "version_minor": 0
      },
      "text/plain": [
       "CesiumWidget()"
      ]
     },
     "metadata": {},
     "output_type": "display_data"
    }
   ],
   "source": [
    "widget"
   ]
  },
  {
   "cell_type": "code",
   "execution_count": null,
   "id": "nonprofit-consideration",
   "metadata": {},
   "outputs": [],
   "source": []
  }
 ],
 "metadata": {
  "kernelspec": {
   "display_name": "Python 3",
   "language": "python",
   "name": "python3"
  },
  "language_info": {
   "codemirror_mode": {
    "name": "ipython",
    "version": 3
   },
   "file_extension": ".py",
   "mimetype": "text/x-python",
   "name": "python",
   "nbconvert_exporter": "python",
   "pygments_lexer": "ipython3",
   "version": "3.8.6"
  }
 },
 "nbformat": 4,
 "nbformat_minor": 5
}
