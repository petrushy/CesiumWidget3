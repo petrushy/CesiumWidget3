{
 "cells": [
  {
   "cell_type": "code",
   "execution_count": 43,
   "id": "outer-transfer",
   "metadata": {},
   "outputs": [],
   "source": [
    "from cesiumwidget3 import CesiumWidget"
   ]
  },
  {
   "cell_type": "code",
   "execution_count": 44,
   "id": "considerable-recorder",
   "metadata": {},
   "outputs": [],
   "source": [
    "widget = CesiumWidget(enable_lighting=True)"
   ]
  },
  {
   "cell_type": "code",
   "execution_count": 45,
   "id": "secondary-gabriel",
   "metadata": {},
   "outputs": [
    {
     "data": {
      "application/vnd.jupyter.widget-view+json": {
       "model_id": "59b873a971ff42cca228dc853c1a23fe",
       "version_major": 2,
       "version_minor": 0
      },
      "text/plain": [
       "CesiumWidget(enable_lighting=True)"
      ]
     },
     "metadata": {},
     "output_type": "display_data"
    }
   ],
   "source": [
    "widget"
   ]
  },
  {
   "cell_type": "code",
   "execution_count": 18,
   "id": "dated-buying",
   "metadata": {},
   "outputs": [],
   "source": [
    "widget.zoom_to(20,20,36000)"
   ]
  },
  {
   "cell_type": "code",
   "execution_count": 41,
   "id": "nearby-regulation",
   "metadata": {},
   "outputs": [],
   "source": [
    "widget.fly_to(100,100,200)"
   ]
  },
  {
   "cell_type": "code",
   "execution_count": 40,
   "id": "varied-apollo",
   "metadata": {},
   "outputs": [],
   "source": [
    "widget.enable_lighting = False"
   ]
  },
  {
   "cell_type": "code",
   "execution_count": 42,
   "id": "necessary-provincial",
   "metadata": {},
   "outputs": [],
   "source": [
    "widget.czml=(1,2,4)"
   ]
  },
  {
   "cell_type": "code",
   "execution_count": 23,
   "id": "marine-convertible",
   "metadata": {},
   "outputs": [
    {
     "data": {
      "text/plain": [
       "['_display_callbacks',\n",
       " '_dom_classes',\n",
       " '_flyto',\n",
       " '_model_module',\n",
       " '_model_module_version',\n",
       " '_model_name',\n",
       " '_msg_callbacks',\n",
       " '_property_lock',\n",
       " '_states_to_send',\n",
       " '_view_count',\n",
       " '_view_module',\n",
       " '_view_module_version',\n",
       " '_view_name',\n",
       " '_zoomto',\n",
       " '_zoomtoregion',\n",
       " 'animation',\n",
       " 'base_layer_picker',\n",
       " 'comm',\n",
       " 'czml',\n",
       " 'enable_lighting',\n",
       " 'geocoder',\n",
       " 'geojson',\n",
       " 'home_button',\n",
       " 'infobox',\n",
       " 'keys',\n",
       " 'kml_url',\n",
       " 'layout',\n",
       " 'log',\n",
       " 'navigation_help_button',\n",
       " 'navigation_instructions_initially_visible',\n",
       " 'scene_3D_only',\n",
       " 'scene_mode',\n",
       " 'scene_mode_picker',\n",
       " 'selection_indicator',\n",
       " 'timeline',\n",
       " 'value']"
      ]
     },
     "execution_count": 23,
     "metadata": {},
     "output_type": "execute_result"
    }
   ],
   "source": [
    "widget.class_trait_names()"
   ]
  },
  {
   "cell_type": "code",
   "execution_count": 1,
   "id": "otherwise-portable",
   "metadata": {},
   "outputs": [],
   "source": [
    "from cesiumwidget3 import example"
   ]
  },
  {
   "cell_type": "code",
   "execution_count": 2,
   "id": "hazardous-safety",
   "metadata": {},
   "outputs": [
    {
     "data": {
      "application/vnd.jupyter.widget-view+json": {
       "model_id": "3884acd04d4648e39db8676204152712",
       "version_major": 2,
       "version_minor": 0
      },
      "text/plain": [
       "HelloWorld()"
      ]
     },
     "metadata": {},
     "output_type": "display_data"
    }
   ],
   "source": [
    "hello_world = example.HelloWorld()\n",
    "hello_world"
   ]
  },
  {
   "cell_type": "code",
   "execution_count": 4,
   "id": "worse-techno",
   "metadata": {},
   "outputs": [],
   "source": [
    "hello_world.fly_to(22, 65, 8000)"
   ]
  },
  {
   "cell_type": "code",
   "execution_count": null,
   "id": "impaired-apple",
   "metadata": {},
   "outputs": [],
   "source": []
  }
 ],
 "metadata": {
  "kernelspec": {
   "display_name": "Python 3",
   "language": "python",
   "name": "python3"
  },
  "language_info": {
   "codemirror_mode": {
    "name": "ipython",
    "version": 3
   },
   "file_extension": ".py",
   "mimetype": "text/x-python",
   "name": "python",
   "nbconvert_exporter": "python",
   "pygments_lexer": "ipython3",
   "version": "3.8.6"
  }
 },
 "nbformat": 4,
 "nbformat_minor": 5
}
