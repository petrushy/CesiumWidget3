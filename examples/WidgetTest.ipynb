{
 "cells": [
  {
   "cell_type": "code",
   "execution_count": 4,
   "id": "literary-processing",
   "metadata": {},
   "outputs": [],
   "source": [
    "from cesiumwidget3 import cesiumwidget"
   ]
  },
  {
   "cell_type": "code",
   "execution_count": 5,
   "id": "historical-bronze",
   "metadata": {},
   "outputs": [],
   "source": [
    "hello_world = cesiumwidget.CesiumWidget()"
   ]
  },
  {
   "cell_type": "code",
   "execution_count": 6,
   "id": "lasting-express",
   "metadata": {},
   "outputs": [
    {
     "data": {
      "application/vnd.jupyter.widget-view+json": {
       "model_id": "d1613adcfdd04396b82943ab117c3431",
       "version_major": 2,
       "version_minor": 0
      },
      "text/plain": [
       "CesiumWidget()"
      ]
     },
     "metadata": {},
     "output_type": "display_data"
    }
   ],
   "source": [
    "hello_world"
   ]
  },
  {
   "cell_type": "code",
   "execution_count": null,
   "id": "cathedral-actor",
   "metadata": {},
   "outputs": [],
   "source": []
  },
  {
   "cell_type": "code",
   "execution_count": 1,
   "id": "innocent-quick",
   "metadata": {},
   "outputs": [],
   "source": [
    "from cesiumwidget3 import example"
   ]
  },
  {
   "cell_type": "code",
   "execution_count": 2,
   "id": "developing-ability",
   "metadata": {},
   "outputs": [
    {
     "data": {
      "application/vnd.jupyter.widget-view+json": {
       "model_id": "3884acd04d4648e39db8676204152712",
       "version_major": 2,
       "version_minor": 0
      },
      "text/plain": [
       "HelloWorld()"
      ]
     },
     "metadata": {},
     "output_type": "display_data"
    }
   ],
   "source": [
    "hello_world = example.HelloWorld()\n",
    "hello_world"
   ]
  },
  {
   "cell_type": "code",
   "execution_count": 4,
   "id": "manual-costa",
   "metadata": {},
   "outputs": [],
   "source": [
    "hello_world.fly_to(22, 65, 8000)"
   ]
  },
  {
   "cell_type": "code",
   "execution_count": null,
   "id": "exceptional-background",
   "metadata": {},
   "outputs": [],
   "source": []
  }
 ],
 "metadata": {
  "kernelspec": {
   "display_name": "Python 3",
   "language": "python",
   "name": "python3"
  },
  "language_info": {
   "codemirror_mode": {
    "name": "ipython",
    "version": 3
   },
   "file_extension": ".py",
   "mimetype": "text/x-python",
   "name": "python",
   "nbconvert_exporter": "python",
   "pygments_lexer": "ipython3",
   "version": "3.8.6"
  }
 },
 "nbformat": 4,
 "nbformat_minor": 5
}
