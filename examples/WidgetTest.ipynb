{
 "cells": [
  {
   "cell_type": "code",
   "execution_count": 1,
   "id": "critical-duplicate",
   "metadata": {},
   "outputs": [
    {
     "ename": "ImportError",
     "evalue": "cannot import name 'CesiumWidget' from 'cesiumwidget3' (/home/petrushy/Development/CesiumWidget3/cesiumwidget3/__init__.py)",
     "output_type": "error",
     "traceback": [
      "\u001b[0;31m---------------------------------------------------------------------------\u001b[0m",
      "\u001b[0;31mImportError\u001b[0m                               Traceback (most recent call last)",
      "\u001b[0;32m<ipython-input-1-eefbdf1e3557>\u001b[0m in \u001b[0;36m<module>\u001b[0;34m\u001b[0m\n\u001b[0;32m----> 1\u001b[0;31m \u001b[0;32mfrom\u001b[0m \u001b[0mcesiumwidget3\u001b[0m \u001b[0;32mimport\u001b[0m \u001b[0mCesiumWidget\u001b[0m\u001b[0;34m\u001b[0m\u001b[0;34m\u001b[0m\u001b[0m\n\u001b[0m",
      "\u001b[0;31mImportError\u001b[0m: cannot import name 'CesiumWidget' from 'cesiumwidget3' (/home/petrushy/Development/CesiumWidget3/cesiumwidget3/__init__.py)"
     ]
    }
   ],
   "source": [
    "from cesiumwidget3 import CesiumWidget"
   ]
  },
  {
   "cell_type": "code",
   "execution_count": 2,
   "id": "solved-cameroon",
   "metadata": {},
   "outputs": [],
   "source": [
    "hello_world = CesiumWidget()"
   ]
  },
  {
   "cell_type": "code",
   "execution_count": 3,
   "id": "educational-peninsula",
   "metadata": {},
   "outputs": [
    {
     "data": {
      "application/vnd.jupyter.widget-view+json": {
       "model_id": "73b3e147c115494e857602f58d92b692",
       "version_major": 2,
       "version_minor": 0
      },
      "text/plain": [
       "CesiumWidget()"
      ]
     },
     "metadata": {},
     "output_type": "display_data"
    }
   ],
   "source": [
    "hello_world"
   ]
  },
  {
   "cell_type": "code",
   "execution_count": null,
   "id": "grand-shame",
   "metadata": {},
   "outputs": [],
   "source": []
  },
  {
   "cell_type": "code",
   "execution_count": 22,
   "id": "wired-bradley",
   "metadata": {},
   "outputs": [],
   "source": [
    "from cesiumwidget3 import example"
   ]
  },
  {
   "cell_type": "code",
   "execution_count": 23,
   "id": "australian-craft",
   "metadata": {},
   "outputs": [
    {
     "data": {
      "application/vnd.jupyter.widget-view+json": {
       "model_id": "6b8bd726229845059725727e3f3cf493",
       "version_major": 2,
       "version_minor": 0
      },
      "text/plain": [
       "HelloWorld()"
      ]
     },
     "metadata": {},
     "output_type": "display_data"
    }
   ],
   "source": [
    "hello_world = example.HelloWorld()\n",
    "hello_world"
   ]
  },
  {
   "cell_type": "code",
   "execution_count": null,
   "id": "royal-handle",
   "metadata": {},
   "outputs": [],
   "source": []
  }
 ],
 "metadata": {
  "kernelspec": {
   "display_name": "Python 3",
   "language": "python",
   "name": "python3"
  },
  "language_info": {
   "codemirror_mode": {
    "name": "ipython",
    "version": 3
   },
   "file_extension": ".py",
   "mimetype": "text/x-python",
   "name": "python",
   "nbconvert_exporter": "python",
   "pygments_lexer": "ipython3",
   "version": "3.8.6"
  }
 },
 "nbformat": 4,
 "nbformat_minor": 5
}
