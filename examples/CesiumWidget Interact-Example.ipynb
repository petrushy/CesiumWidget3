{
 "cells": [
  {
   "cell_type": "markdown",
   "metadata": {},
   "source": [
    "# Cesium Widget Example\n",
    "This is an example notebook to sow how to *bind* the [Cesiumjs](http://cesiumjs.org/index.html) with the [IPython interactive widget system](https://github.com/ipython/ipywidgets)."
   ]
  },
  {
   "cell_type": "code",
   "execution_count": 1,
   "metadata": {},
   "outputs": [],
   "source": [
    "from cesiumwidget3 import CesiumWidget\n",
    "from IPython import display\n",
    "from czml_example import simple_czml, complex_czml"
   ]
  },
  {
   "cell_type": "markdown",
   "metadata": {},
   "source": [
    "The code:\n",
    "\n",
    "```from czml_example import simple_czml, complex_czml```\n",
    "\n",
    "Simply import some [CZML]() data for the viewer to display."
   ]
  },
  {
   "cell_type": "markdown",
   "metadata": {},
   "source": [
    "**Create widget object**"
   ]
  },
  {
   "cell_type": "code",
   "execution_count": 2,
   "metadata": {
    "collapsed": false,
    "jupyter": {
     "outputs_hidden": false
    }
   },
   "outputs": [],
   "source": [
    "cesiumExample = CesiumWidget(width=\"100%\", enable_lighting=False)"
   ]
  },
  {
   "cell_type": "markdown",
   "metadata": {},
   "source": [
    "**Display the widget:**"
   ]
  },
  {
   "cell_type": "code",
   "execution_count": 3,
   "metadata": {},
   "outputs": [
    {
     "data": {
      "application/vnd.jupyter.widget-view+json": {
       "model_id": "7817b264cb6143de872fc4d7da57012f",
       "version_major": 2,
       "version_minor": 0
      },
      "text/plain": [
       "CesiumWidget()"
      ]
     },
     "metadata": {},
     "output_type": "display_data"
    }
   ],
   "source": [
    "cesiumExample"
   ]
  },
  {
   "cell_type": "markdown",
   "metadata": {},
   "source": [
    "**Add some data to the viewer**\n",
    "\n",
    "* A simple czml"
   ]
  },
  {
   "cell_type": "code",
   "execution_count": 4,
   "metadata": {},
   "outputs": [
    {
     "ename": "TraitError",
     "evalue": "The 'czml' trait of a CesiumWidget instance expected a unicode string, not the list [{'id': 'document', 'version': '1.0'}, {'id': 'InternationalSpaceStation', 'position': {'referenceFrame': 'INERTIAL', 'epoch': '2012-05-02T12:00:00Z', 'cartesian': [0.0, -6668447.2211117, 1201886.45913705, 146789.427467256, 60.0, -6711432.84684144, 919677.673492462, -214047.552431458, 90.0, -6721319.92231553, 776899.784034099, -394198.837519575, 150.0, -6717826.447064, 488820.628328182, -752924.980158179, 180.0, -6704450.41462847, 343851.784836767, -931084.800346031, 240.0, -6654518.44949696, 52891.726433174, -1283967.69137678], 'nextTime': 300.0, 'interpolationAlgorithm': 'LAGRANGE', 'interpolationDegree': 5}}, {'id': '/Application/STK/Scenario/simple/Facility/AGI', 'label': {'fillColor': {'rgba': [0, 255, 255, 255]}, 'font': '10pt Lucida Console', 'horizontalOrigin': 'LEFT', 'outlineColor': {'rgba': [0, 0, 0, 255]}, 'pixelOffset': {'cartesian2': [12.0, 0.0]}, 'scale': 1.0, 'show': 'true', 'style': 'FILL', 'text': 'AGI', 'verticalOrigin': 'CENTER'}, 'position': {'cartesian': [1216469.9357990976, -4736121.71856379, 4081386.8856866374]}}].",
     "output_type": "error",
     "traceback": [
      "\u001b[0;31m---------------------------------------------------------------------------\u001b[0m",
      "\u001b[0;31mTraitError\u001b[0m                                Traceback (most recent call last)",
      "\u001b[0;32m<ipython-input-4-8e3ebd620a15>\u001b[0m in \u001b[0;36m<module>\u001b[0;34m\u001b[0m\n\u001b[0;32m----> 1\u001b[0;31m \u001b[0mcesiumExample\u001b[0m\u001b[0;34m.\u001b[0m\u001b[0mczml\u001b[0m \u001b[0;34m=\u001b[0m \u001b[0msimple_czml\u001b[0m\u001b[0;34m\u001b[0m\u001b[0;34m\u001b[0m\u001b[0m\n\u001b[0m",
      "\u001b[0;32m~/miniforge3/lib/python3.8/site-packages/traitlets/traitlets.py\u001b[0m in \u001b[0;36m__set__\u001b[0;34m(self, obj, value)\u001b[0m\n\u001b[1;32m    602\u001b[0m             \u001b[0;32mraise\u001b[0m \u001b[0mTraitError\u001b[0m\u001b[0;34m(\u001b[0m\u001b[0;34m'The \"%s\" trait is read-only.'\u001b[0m \u001b[0;34m%\u001b[0m \u001b[0mself\u001b[0m\u001b[0;34m.\u001b[0m\u001b[0mname\u001b[0m\u001b[0;34m)\u001b[0m\u001b[0;34m\u001b[0m\u001b[0;34m\u001b[0m\u001b[0m\n\u001b[1;32m    603\u001b[0m         \u001b[0;32melse\u001b[0m\u001b[0;34m:\u001b[0m\u001b[0;34m\u001b[0m\u001b[0;34m\u001b[0m\u001b[0m\n\u001b[0;32m--> 604\u001b[0;31m             \u001b[0mself\u001b[0m\u001b[0;34m.\u001b[0m\u001b[0mset\u001b[0m\u001b[0;34m(\u001b[0m\u001b[0mobj\u001b[0m\u001b[0;34m,\u001b[0m \u001b[0mvalue\u001b[0m\u001b[0;34m)\u001b[0m\u001b[0;34m\u001b[0m\u001b[0;34m\u001b[0m\u001b[0m\n\u001b[0m\u001b[1;32m    605\u001b[0m \u001b[0;34m\u001b[0m\u001b[0m\n\u001b[1;32m    606\u001b[0m     \u001b[0;32mdef\u001b[0m \u001b[0m_validate\u001b[0m\u001b[0;34m(\u001b[0m\u001b[0mself\u001b[0m\u001b[0;34m,\u001b[0m \u001b[0mobj\u001b[0m\u001b[0;34m,\u001b[0m \u001b[0mvalue\u001b[0m\u001b[0;34m)\u001b[0m\u001b[0;34m:\u001b[0m\u001b[0;34m\u001b[0m\u001b[0;34m\u001b[0m\u001b[0m\n",
      "\u001b[0;32m~/miniforge3/lib/python3.8/site-packages/traitlets/traitlets.py\u001b[0m in \u001b[0;36mset\u001b[0;34m(self, obj, value)\u001b[0m\n\u001b[1;32m    576\u001b[0m \u001b[0;34m\u001b[0m\u001b[0m\n\u001b[1;32m    577\u001b[0m     \u001b[0;32mdef\u001b[0m \u001b[0mset\u001b[0m\u001b[0;34m(\u001b[0m\u001b[0mself\u001b[0m\u001b[0;34m,\u001b[0m \u001b[0mobj\u001b[0m\u001b[0;34m,\u001b[0m \u001b[0mvalue\u001b[0m\u001b[0;34m)\u001b[0m\u001b[0;34m:\u001b[0m\u001b[0;34m\u001b[0m\u001b[0;34m\u001b[0m\u001b[0m\n\u001b[0;32m--> 578\u001b[0;31m         \u001b[0mnew_value\u001b[0m \u001b[0;34m=\u001b[0m \u001b[0mself\u001b[0m\u001b[0;34m.\u001b[0m\u001b[0m_validate\u001b[0m\u001b[0;34m(\u001b[0m\u001b[0mobj\u001b[0m\u001b[0;34m,\u001b[0m \u001b[0mvalue\u001b[0m\u001b[0;34m)\u001b[0m\u001b[0;34m\u001b[0m\u001b[0;34m\u001b[0m\u001b[0m\n\u001b[0m\u001b[1;32m    579\u001b[0m         \u001b[0;32mtry\u001b[0m\u001b[0;34m:\u001b[0m\u001b[0;34m\u001b[0m\u001b[0;34m\u001b[0m\u001b[0m\n\u001b[1;32m    580\u001b[0m             \u001b[0mold_value\u001b[0m \u001b[0;34m=\u001b[0m \u001b[0mobj\u001b[0m\u001b[0;34m.\u001b[0m\u001b[0m_trait_values\u001b[0m\u001b[0;34m[\u001b[0m\u001b[0mself\u001b[0m\u001b[0;34m.\u001b[0m\u001b[0mname\u001b[0m\u001b[0;34m]\u001b[0m\u001b[0;34m\u001b[0m\u001b[0;34m\u001b[0m\u001b[0m\n",
      "\u001b[0;32m~/miniforge3/lib/python3.8/site-packages/traitlets/traitlets.py\u001b[0m in \u001b[0;36m_validate\u001b[0;34m(self, obj, value)\u001b[0m\n\u001b[1;32m    608\u001b[0m             \u001b[0;32mreturn\u001b[0m \u001b[0mvalue\u001b[0m\u001b[0;34m\u001b[0m\u001b[0;34m\u001b[0m\u001b[0m\n\u001b[1;32m    609\u001b[0m         \u001b[0;32mif\u001b[0m \u001b[0mhasattr\u001b[0m\u001b[0;34m(\u001b[0m\u001b[0mself\u001b[0m\u001b[0;34m,\u001b[0m \u001b[0;34m'validate'\u001b[0m\u001b[0;34m)\u001b[0m\u001b[0;34m:\u001b[0m\u001b[0;34m\u001b[0m\u001b[0;34m\u001b[0m\u001b[0m\n\u001b[0;32m--> 610\u001b[0;31m             \u001b[0mvalue\u001b[0m \u001b[0;34m=\u001b[0m \u001b[0mself\u001b[0m\u001b[0;34m.\u001b[0m\u001b[0mvalidate\u001b[0m\u001b[0;34m(\u001b[0m\u001b[0mobj\u001b[0m\u001b[0;34m,\u001b[0m \u001b[0mvalue\u001b[0m\u001b[0;34m)\u001b[0m\u001b[0;34m\u001b[0m\u001b[0;34m\u001b[0m\u001b[0m\n\u001b[0m\u001b[1;32m    611\u001b[0m         \u001b[0;32mif\u001b[0m \u001b[0mobj\u001b[0m\u001b[0;34m.\u001b[0m\u001b[0m_cross_validation_lock\u001b[0m \u001b[0;32mis\u001b[0m \u001b[0;32mFalse\u001b[0m\u001b[0;34m:\u001b[0m\u001b[0;34m\u001b[0m\u001b[0;34m\u001b[0m\u001b[0m\n\u001b[1;32m    612\u001b[0m             \u001b[0mvalue\u001b[0m \u001b[0;34m=\u001b[0m \u001b[0mself\u001b[0m\u001b[0;34m.\u001b[0m\u001b[0m_cross_validate\u001b[0m\u001b[0;34m(\u001b[0m\u001b[0mobj\u001b[0m\u001b[0;34m,\u001b[0m \u001b[0mvalue\u001b[0m\u001b[0;34m)\u001b[0m\u001b[0;34m\u001b[0m\u001b[0;34m\u001b[0m\u001b[0m\n",
      "\u001b[0;32m~/miniforge3/lib/python3.8/site-packages/traitlets/traitlets.py\u001b[0m in \u001b[0;36mvalidate\u001b[0;34m(self, obj, value)\u001b[0m\n\u001b[1;32m   2182\u001b[0m                 \u001b[0mmsg\u001b[0m \u001b[0;34m=\u001b[0m \u001b[0;34m\"Could not decode {!r} for unicode trait '{}' of {} instance.\"\u001b[0m\u001b[0;34m\u001b[0m\u001b[0;34m\u001b[0m\u001b[0m\n\u001b[1;32m   2183\u001b[0m                 \u001b[0;32mraise\u001b[0m \u001b[0mTraitError\u001b[0m\u001b[0;34m(\u001b[0m\u001b[0mmsg\u001b[0m\u001b[0;34m.\u001b[0m\u001b[0mformat\u001b[0m\u001b[0;34m(\u001b[0m\u001b[0mvalue\u001b[0m\u001b[0;34m,\u001b[0m \u001b[0mself\u001b[0m\u001b[0;34m.\u001b[0m\u001b[0mname\u001b[0m\u001b[0;34m,\u001b[0m \u001b[0mclass_of\u001b[0m\u001b[0;34m(\u001b[0m\u001b[0mobj\u001b[0m\u001b[0;34m)\u001b[0m\u001b[0;34m)\u001b[0m\u001b[0;34m)\u001b[0m\u001b[0;34m\u001b[0m\u001b[0;34m\u001b[0m\u001b[0m\n\u001b[0;32m-> 2184\u001b[0;31m         \u001b[0mself\u001b[0m\u001b[0;34m.\u001b[0m\u001b[0merror\u001b[0m\u001b[0;34m(\u001b[0m\u001b[0mobj\u001b[0m\u001b[0;34m,\u001b[0m \u001b[0mvalue\u001b[0m\u001b[0;34m)\u001b[0m\u001b[0;34m\u001b[0m\u001b[0;34m\u001b[0m\u001b[0m\n\u001b[0m\u001b[1;32m   2185\u001b[0m \u001b[0;34m\u001b[0m\u001b[0m\n\u001b[1;32m   2186\u001b[0m     \u001b[0;32mdef\u001b[0m \u001b[0mfrom_string\u001b[0m\u001b[0;34m(\u001b[0m\u001b[0mself\u001b[0m\u001b[0;34m,\u001b[0m \u001b[0ms\u001b[0m\u001b[0;34m)\u001b[0m\u001b[0;34m:\u001b[0m\u001b[0;34m\u001b[0m\u001b[0;34m\u001b[0m\u001b[0m\n",
      "\u001b[0;32m~/miniforge3/lib/python3.8/site-packages/traitlets/traitlets.py\u001b[0m in \u001b[0;36merror\u001b[0;34m(self, obj, value, error, info)\u001b[0m\n\u001b[1;32m    688\u001b[0m                     e = \"The '%s' trait expected %s, not %s.\" % (\n\u001b[1;32m    689\u001b[0m                         self.name, self.info(), describe(\"the\", value))\n\u001b[0;32m--> 690\u001b[0;31m                 \u001b[0;32mraise\u001b[0m \u001b[0mTraitError\u001b[0m\u001b[0;34m(\u001b[0m\u001b[0me\u001b[0m\u001b[0;34m)\u001b[0m\u001b[0;34m\u001b[0m\u001b[0;34m\u001b[0m\u001b[0m\n\u001b[0m\u001b[1;32m    691\u001b[0m \u001b[0;34m\u001b[0m\u001b[0m\n\u001b[1;32m    692\u001b[0m     \u001b[0;32mdef\u001b[0m \u001b[0mget_metadata\u001b[0m\u001b[0;34m(\u001b[0m\u001b[0mself\u001b[0m\u001b[0;34m,\u001b[0m \u001b[0mkey\u001b[0m\u001b[0;34m,\u001b[0m \u001b[0mdefault\u001b[0m\u001b[0;34m=\u001b[0m\u001b[0;32mNone\u001b[0m\u001b[0;34m)\u001b[0m\u001b[0;34m:\u001b[0m\u001b[0;34m\u001b[0m\u001b[0;34m\u001b[0m\u001b[0m\n",
      "\u001b[0;31mTraitError\u001b[0m: The 'czml' trait of a CesiumWidget instance expected a unicode string, not the list [{'id': 'document', 'version': '1.0'}, {'id': 'InternationalSpaceStation', 'position': {'referenceFrame': 'INERTIAL', 'epoch': '2012-05-02T12:00:00Z', 'cartesian': [0.0, -6668447.2211117, 1201886.45913705, 146789.427467256, 60.0, -6711432.84684144, 919677.673492462, -214047.552431458, 90.0, -6721319.92231553, 776899.784034099, -394198.837519575, 150.0, -6717826.447064, 488820.628328182, -752924.980158179, 180.0, -6704450.41462847, 343851.784836767, -931084.800346031, 240.0, -6654518.44949696, 52891.726433174, -1283967.69137678], 'nextTime': 300.0, 'interpolationAlgorithm': 'LAGRANGE', 'interpolationDegree': 5}}, {'id': '/Application/STK/Scenario/simple/Facility/AGI', 'label': {'fillColor': {'rgba': [0, 255, 255, 255]}, 'font': '10pt Lucida Console', 'horizontalOrigin': 'LEFT', 'outlineColor': {'rgba': [0, 0, 0, 255]}, 'pixelOffset': {'cartesian2': [12.0, 0.0]}, 'scale': 1.0, 'show': 'true', 'style': 'FILL', 'text': 'AGI', 'verticalOrigin': 'CENTER'}, 'position': {'cartesian': [1216469.9357990976, -4736121.71856379, 4081386.8856866374]}}]."
     ]
    }
   ],
   "source": [
    "cesiumExample.czml = simple_czml"
   ]
  },
  {
   "cell_type": "code",
   "execution_count": 12,
   "metadata": {},
   "outputs": [],
   "source": [
    "foo= \"\"\"\n",
    "\n",
    "[\n",
    "  {\n",
    "    id: \"document\",\n",
    "    name: \"CZML Geometries: Circles and Ellipses\",\n",
    "    version: \"1.0\",\n",
    "  },\n",
    "  {\n",
    "    id: \"shape1\",\n",
    "    name: \"Green circle at height\",\n",
    "    position: {\n",
    "      cartographicDegrees: [-111.0, 40.0, 150000.0],\n",
    "    },\n",
    "    ellipse: {\n",
    "      semiMinorAxis: 300000.0,\n",
    "      semiMajorAxis: 300000.0,\n",
    "      height: 200000.0,\n",
    "      material: {\n",
    "        solidColor: {\n",
    "          color: {\n",
    "            rgba: [0, 255, 0, 255],\n",
    "          },\n",
    "        },\n",
    "      },\n",
    "    },\n",
    "  },\n",
    "  {\n",
    "    id: \"shape2\",\n",
    "    name: \"Red ellipse with white outline on surface\",\n",
    "    position: {\n",
    "      cartographicDegrees: [-103.0, 40.0, 0],\n",
    "    },\n",
    "    ellipse: {\n",
    "      semiMinorAxis: 250000.0,\n",
    "      semiMajorAxis: 400000.0,\n",
    "      height: 0,\n",
    "      material: {\n",
    "        solidColor: {\n",
    "          color: {\n",
    "            rgba: [255, 0, 0, 127],\n",
    "          },\n",
    "        },\n",
    "      },\n",
    "      outline: true, // height must be set for outlines to display\n",
    "      outlineColor: {\n",
    "        rgba: [255, 255, 255, 255],\n",
    "      },\n",
    "    },\n",
    "  },\n",
    "  {\n",
    "    id: \"shape3\",\n",
    "    name:\n",
    "      \"Blue translucent, rotated, and extruded ellipse with outline\",\n",
    "    position: {\n",
    "      cartographicDegrees: [-95.0, 40.0, 100000.0],\n",
    "    },\n",
    "    ellipse: {\n",
    "      semiMinorAxis: 150000.0,\n",
    "      semiMajorAxis: 300000.0,\n",
    "      extrudedHeight: 200000.0,\n",
    "      rotation: 0.78539,\n",
    "      material: {\n",
    "        solidColor: {\n",
    "          color: {\n",
    "            rgba: [0, 0, 255, 127],\n",
    "          },\n",
    "        },\n",
    "      },\n",
    "      outline: true,\n",
    "    },\n",
    "  },\n",
    "]\n",
    "\n",
    "\"\"\""
   ]
  },
  {
   "cell_type": "code",
   "execution_count": 13,
   "metadata": {},
   "outputs": [
    {
     "data": {
      "text/plain": [
       "'\\n\\n[\\n  {\\n    id: \"document\",\\n    name: \"CZML Geometries: Circles and Ellipses\",\\n    version: \"1.0\",\\n  },\\n  {\\n    id: \"shape1\",\\n    name: \"Green circle at height\",\\n    position: {\\n      cartographicDegrees: [-111.0, 40.0, 150000.0],\\n    },\\n    ellipse: {\\n      semiMinorAxis: 300000.0,\\n      semiMajorAxis: 300000.0,\\n      height: 200000.0,\\n      material: {\\n        solidColor: {\\n          color: {\\n            rgba: [0, 255, 0, 255],\\n          },\\n        },\\n      },\\n    },\\n  },\\n  {\\n    id: \"shape2\",\\n    name: \"Red ellipse with white outline on surface\",\\n    position: {\\n      cartographicDegrees: [-103.0, 40.0, 0],\\n    },\\n    ellipse: {\\n      semiMinorAxis: 250000.0,\\n      semiMajorAxis: 400000.0,\\n      height: 0,\\n      material: {\\n        solidColor: {\\n          color: {\\n            rgba: [255, 0, 0, 127],\\n          },\\n        },\\n      },\\n      outline: true, // height must be set for outlines to display\\n      outlineColor: {\\n        rgba: [255, 255, 255, 255],\\n      },\\n    },\\n  },\\n  {\\n    id: \"shape3\",\\n    name:\\n      \"Blue translucent, rotated, and extruded ellipse with outline\",\\n    position: {\\n      cartographicDegrees: [-95.0, 40.0, 100000.0],\\n    },\\n    ellipse: {\\n      semiMinorAxis: 150000.0,\\n      semiMajorAxis: 300000.0,\\n      extrudedHeight: 200000.0,\\n      rotation: 0.78539,\\n      material: {\\n        solidColor: {\\n          color: {\\n            rgba: [0, 0, 255, 127],\\n          },\\n        },\\n      },\\n      outline: true,\\n    },\\n  },\\n]\\n\\n'"
      ]
     },
     "execution_count": 13,
     "metadata": {},
     "output_type": "execute_result"
    }
   ],
   "source": [
    "foo"
   ]
  },
  {
   "cell_type": "code",
   "execution_count": 32,
   "metadata": {},
   "outputs": [
    {
     "data": {
      "text/plain": [
       "[{'id': 'document', 'version': '1.0'},\n",
       " {'id': 'InternationalSpaceStation',\n",
       "  'position': {'referenceFrame': 'INERTIAL',\n",
       "   'epoch': '2012-05-02T12:00:00Z',\n",
       "   'cartesian': [0.0,\n",
       "    -6668447.2211117,\n",
       "    1201886.45913705,\n",
       "    146789.427467256,\n",
       "    60.0,\n",
       "    -6711432.84684144,\n",
       "    919677.673492462,\n",
       "    -214047.552431458,\n",
       "    90.0,\n",
       "    -6721319.92231553,\n",
       "    776899.784034099,\n",
       "    -394198.837519575,\n",
       "    150.0,\n",
       "    -6717826.447064,\n",
       "    488820.628328182,\n",
       "    -752924.980158179,\n",
       "    180.0,\n",
       "    -6704450.41462847,\n",
       "    343851.784836767,\n",
       "    -931084.800346031,\n",
       "    240.0,\n",
       "    -6654518.44949696,\n",
       "    52891.726433174,\n",
       "    -1283967.69137678],\n",
       "   'nextTime': 300.0,\n",
       "   'interpolationAlgorithm': 'LAGRANGE',\n",
       "   'interpolationDegree': 5}},\n",
       " {'id': '/Application/STK/Scenario/simple/Facility/AGI',\n",
       "  'label': {'fillColor': {'rgba': [0, 255, 255, 255]},\n",
       "   'font': '10pt Lucida Console',\n",
       "   'horizontalOrigin': 'LEFT',\n",
       "   'outlineColor': {'rgba': [0, 0, 0, 255]},\n",
       "   'pixelOffset': {'cartesian2': [12.0, 0.0]},\n",
       "   'scale': 1.0,\n",
       "   'show': 'true',\n",
       "   'style': 'FILL',\n",
       "   'text': 'AGI',\n",
       "   'verticalOrigin': 'CENTER'},\n",
       "  'position': {'cartesian': [1216469.9357990976,\n",
       "    -4736121.71856379,\n",
       "    4081386.8856866374]}}]"
      ]
     },
     "execution_count": 32,
     "metadata": {},
     "output_type": "execute_result"
    }
   ],
   "source": [
    "simple_czml"
   ]
  },
  {
   "cell_type": "code",
   "execution_count": 14,
   "metadata": {},
   "outputs": [],
   "source": [
    "cesiumExample.czml = foo"
   ]
  },
  {
   "cell_type": "markdown",
   "metadata": {},
   "source": [
    "* A more complex CZML example"
   ]
  },
  {
   "cell_type": "code",
   "execution_count": 30,
   "metadata": {},
   "outputs": [],
   "source": [
    "cesiumExample.czml = complex_czml"
   ]
  },
  {
   "cell_type": "markdown",
   "metadata": {},
   "source": [
    "Now let's make some interactive widget:"
   ]
  },
  {
   "cell_type": "code",
   "execution_count": null,
   "metadata": {
    "collapsed": true,
    "jupyter": {
     "outputs_hidden": true
    }
   },
   "outputs": [],
   "source": [
    "from __future__ import print_function\n",
    "from ipywidgets import interact, interactive, fixed\n",
    "from ipywidgets import widgets"
   ]
  },
  {
   "cell_type": "markdown",
   "metadata": {},
   "source": [
    "* store the CZML objet in a dictionary and use their name as ```keys```\n",
    "* define a function to switch between CZML\n",
    "* bind the IPython intercat class to the function"
   ]
  },
  {
   "cell_type": "code",
   "execution_count": 6,
   "metadata": {},
   "outputs": [],
   "source": [
    "myczml = {'simple_czml':simple_czml, 'complex_czml':complex_czml}"
   ]
  },
  {
   "cell_type": "code",
   "execution_count": 7,
   "metadata": {},
   "outputs": [],
   "source": [
    "myplace = {'Eboli, IT':'', 'Woods Hole, MA':'', 'Durham, NH':''}"
   ]
  },
  {
   "cell_type": "code",
   "execution_count": 8,
   "metadata": {
    "collapsed": false,
    "jupyter": {
     "outputs_hidden": false
    }
   },
   "outputs": [
    {
     "ename": "ModuleNotFoundError",
     "evalue": "No module named 'geocoder'",
     "output_type": "error",
     "traceback": [
      "\u001b[0;31m---------------------------------------------------------------------------\u001b[0m",
      "\u001b[0;31mModuleNotFoundError\u001b[0m                       Traceback (most recent call last)",
      "\u001b[0;32m<ipython-input-8-a968e3362e8f>\u001b[0m in \u001b[0;36m<module>\u001b[0;34m\u001b[0m\n\u001b[0;32m----> 1\u001b[0;31m \u001b[0;32mimport\u001b[0m \u001b[0mgeocoder\u001b[0m\u001b[0;34m\u001b[0m\u001b[0;34m\u001b[0m\u001b[0m\n\u001b[0m\u001b[1;32m      2\u001b[0m \u001b[0;32mimport\u001b[0m \u001b[0mtime\u001b[0m\u001b[0;34m\u001b[0m\u001b[0;34m\u001b[0m\u001b[0m\n\u001b[1;32m      3\u001b[0m \u001b[0;32mfor\u001b[0m \u001b[0mi\u001b[0m \u001b[0;32min\u001b[0m \u001b[0mmyplace\u001b[0m\u001b[0;34m.\u001b[0m\u001b[0mkeys\u001b[0m\u001b[0;34m(\u001b[0m\u001b[0;34m)\u001b[0m\u001b[0;34m:\u001b[0m\u001b[0;34m\u001b[0m\u001b[0;34m\u001b[0m\u001b[0m\n\u001b[1;32m      4\u001b[0m     \u001b[0mg\u001b[0m \u001b[0;34m=\u001b[0m \u001b[0mgeocoder\u001b[0m\u001b[0;34m.\u001b[0m\u001b[0mgoogle\u001b[0m\u001b[0;34m(\u001b[0m\u001b[0mi\u001b[0m\u001b[0;34m)\u001b[0m\u001b[0;34m\u001b[0m\u001b[0;34m\u001b[0m\u001b[0m\n\u001b[1;32m      5\u001b[0m     \u001b[0mprint\u001b[0m\u001b[0;34m(\u001b[0m\u001b[0mg\u001b[0m\u001b[0;34m.\u001b[0m\u001b[0mlatlng\u001b[0m\u001b[0;34m)\u001b[0m\u001b[0;34m\u001b[0m\u001b[0;34m\u001b[0m\u001b[0m\n",
      "\u001b[0;31mModuleNotFoundError\u001b[0m: No module named 'geocoder'"
     ]
    }
   ],
   "source": [
    "import geocoder\n",
    "import time\n",
    "for i in myplace.keys():\n",
    "    g = geocoder.google(i)\n",
    "    print(g.latlng)\n",
    "    myplace[i]=g.latlng"
   ]
  },
  {
   "cell_type": "code",
   "execution_count": null,
   "metadata": {
    "collapsed": false,
    "jupyter": {
     "outputs_hidden": false
    }
   },
   "outputs": [],
   "source": [
    "myplace"
   ]
  },
  {
   "cell_type": "code",
   "execution_count": null,
   "metadata": {
    "collapsed": false,
    "jupyter": {
     "outputs_hidden": false
    }
   },
   "outputs": [],
   "source": [
    "@interact(z=(0,20000000), heading=(-180,180), pitch=(-90,90), roll=(-360,360), \n",
    "          Location=('Eboli, IT','Woods Hole, MA','Durham, NH'))\n",
    "def f(z=1000000, heading=0, pitch=-90, roll=0, Location='Eboli, IT'):\n",
    "    cesiumExample.zoom_to(myplace[Location][1], myplace[Location][0], z, heading, pitch, roll)\n",
    "@interact(CZML=('simple_czml','complex_czml'))\n",
    "def c(CZML=None):\n",
    "    cesiumExample.czml = myczml[CZML]"
   ]
  },
  {
   "cell_type": "code",
   "execution_count": null,
   "metadata": {
    "collapsed": true,
    "jupyter": {
     "outputs_hidden": true
    }
   },
   "outputs": [],
   "source": [
    "cesiumExample"
   ]
  },
  {
   "cell_type": "code",
   "execution_count": null,
   "metadata": {
    "collapsed": true,
    "jupyter": {
     "outputs_hidden": true
    }
   },
   "outputs": [],
   "source": []
  }
 ],
 "metadata": {
  "hide_input": true,
  "kernelspec": {
   "display_name": "Python 3",
   "language": "python",
   "name": "python3"
  },
  "language_info": {
   "codemirror_mode": {
    "name": "ipython",
    "version": 3
   },
   "file_extension": ".py",
   "mimetype": "text/x-python",
   "name": "python",
   "nbconvert_exporter": "python",
   "pygments_lexer": "ipython3",
   "version": "3.8.6"
  },
  "latex_envs": {
   "bibliofile": "biblio.bib",
   "cite_by": "apalike",
   "current_citInitial": 1,
   "eqLabelWithNumbers": true,
   "eqNumInitial": 0
  }
 },
 "nbformat": 4,
 "nbformat_minor": 4
}
