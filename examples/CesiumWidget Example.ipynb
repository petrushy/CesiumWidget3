{
 "cells": [
  {
   "cell_type": "markdown",
   "metadata": {},
   "source": [
    "# Cesium Widget Example\n",
    "This is an example notebook accessing the CesiumWidget, in the way it should be accessed."
   ]
  },
  {
   "cell_type": "code",
   "execution_count": 1,
   "metadata": {},
   "outputs": [],
   "source": [
    "import json\n",
    "from IPython import display\n",
    "from cesiumwidget3 import CesiumWidget"
   ]
  },
  {
   "cell_type": "markdown",
   "metadata": {},
   "source": [
    "If the installation of Cesiumjs is ok, it should be reachable [here](http://localhost:8888/nbextensions/CesiumWidget/cesium/index.html)."
   ]
  },
  {
   "cell_type": "markdown",
   "metadata": {},
   "source": [
    "Great, let's create a `CesiumWidget`!"
   ]
  },
  {
   "cell_type": "code",
   "execution_count": 2,
   "metadata": {
    "collapsed": false,
    "jupyter": {
     "outputs_hidden": false
    }
   },
   "outputs": [],
   "source": [
    "cesium = CesiumWidget()"
   ]
  },
  {
   "cell_type": "markdown",
   "metadata": {},
   "source": [
    "Display the widget:"
   ]
  },
  {
   "cell_type": "code",
   "execution_count": 3,
   "metadata": {},
   "outputs": [
    {
     "data": {
      "application/vnd.jupyter.widget-view+json": {
       "model_id": "15f7f6b33f2642ab8094e15f3f24d629",
       "version_major": 2,
       "version_minor": 0
      },
      "text/plain": [
       "CesiumWidget()"
      ]
     },
     "metadata": {},
     "output_type": "display_data"
    }
   ],
   "source": [
    "cesium"
   ]
  },
  {
   "cell_type": "markdown",
   "metadata": {},
   "source": [
    "You can change many settings of the widget:"
   ]
  },
  {
   "cell_type": "code",
   "execution_count": 4,
   "metadata": {
    "collapsed": false,
    "jupyter": {
     "outputs_hidden": false
    }
   },
   "outputs": [
    {
     "data": {
      "text/plain": [
       "{'_flyto': <traitlets.traitlets.List at 0x7f6cb82c6a00>,\n",
       " '_model_module': <traitlets.traitlets.Unicode at 0x7f6cb82c63d0>,\n",
       " '_model_module_version': <traitlets.traitlets.Unicode at 0x7f6cb82c6400>,\n",
       " '_model_name': <traitlets.traitlets.Unicode at 0x7f6cb82c6340>,\n",
       " '_view_module': <traitlets.traitlets.Unicode at 0x7f6cb82c6370>,\n",
       " '_view_module_version': <traitlets.traitlets.Unicode at 0x7f6cb82c63a0>,\n",
       " '_view_name': <traitlets.traitlets.Unicode at 0x7f6cb82c6310>,\n",
       " '_zoomto': <traitlets.traitlets.List at 0x7f6cb82c6940>,\n",
       " '_zoomtoregion': <traitlets.traitlets.List at 0x7f6cb82c6a60>,\n",
       " 'animation': <traitlets.traitlets.Bool at 0x7f6cb82049a0>,\n",
       " 'base_layer_picker': <traitlets.traitlets.Bool at 0x7f6cb82049d0>,\n",
       " 'czml': <traitlets.traitlets.Tuple at 0x7f6cb82c6580>,\n",
       " 'enable_lighting': <traitlets.traitlets.Bool at 0x7f6cb8204be0>,\n",
       " 'geocoder': <traitlets.traitlets.Bool at 0x7f6cb8204a00>,\n",
       " 'geojson': <traitlets.traitlets.Unicode at 0x7f6cb82c65e0>,\n",
       " 'home_button': <traitlets.traitlets.Bool at 0x7f6cb8204a30>,\n",
       " 'infobox': <traitlets.traitlets.Bool at 0x7f6cb8204a60>,\n",
       " 'kml_url': <traitlets.traitlets.Unicode at 0x7f6cb82c65b0>,\n",
       " 'navigation_help_button': <traitlets.traitlets.Bool at 0x7f6cb8204b20>,\n",
       " 'navigation_instructions_initially_visible': <traitlets.traitlets.Bool at 0x7f6cb8204b50>,\n",
       " 'scene_3D_only': <traitlets.traitlets.Bool at 0x7f6cb8204b80>,\n",
       " 'scene_mode': <traitlets.traitlets.CaselessStrEnum at 0x7f6cb8204bb0>,\n",
       " 'scene_mode_picker': <traitlets.traitlets.Bool at 0x7f6cb8204a90>,\n",
       " 'selection_indicator': <traitlets.traitlets.Bool at 0x7f6cb8204ac0>,\n",
       " 'timeline': <traitlets.traitlets.Bool at 0x7f6cb8204af0>,\n",
       " 'value': <traitlets.traitlets.Unicode at 0x7f6cb82c64f0>}"
      ]
     },
     "execution_count": 4,
     "metadata": {},
     "output_type": "execute_result"
    }
   ],
   "source": [
    "cesium.class_own_traits()"
   ]
  },
  {
   "cell_type": "markdown",
   "metadata": {},
   "source": [
    "Let's turn on lighting: let there be light!"
   ]
  },
  {
   "cell_type": "code",
   "execution_count": 7,
   "metadata": {},
   "outputs": [],
   "source": [
    "cesium.enable_lighting = True"
   ]
  },
  {
   "cell_type": "markdown",
   "metadata": {},
   "source": [
    "Load data for the viewer to display in the [CZML](https://github.com/AnalyticalGraphicsInc/cesium/wiki/CZML-Guide) format, which is based on JSON. It always expects a list of Packet objects."
   ]
  },
  {
   "cell_type": "code",
   "execution_count": 8,
   "metadata": {
    "collapsed": false,
    "jupyter": {
     "outputs_hidden": false
    }
   },
   "outputs": [
    {
     "ename": "ModuleNotFoundError",
     "evalue": "No module named 'CesiumWidget'",
     "output_type": "error",
     "traceback": [
      "\u001b[0;31m---------------------------------------------------------------------------\u001b[0m",
      "\u001b[0;31mModuleNotFoundError\u001b[0m                       Traceback (most recent call last)",
      "\u001b[0;32m<ipython-input-8-20d31cfba3c5>\u001b[0m in \u001b[0;36m<module>\u001b[0;34m\u001b[0m\n\u001b[0;32m----> 1\u001b[0;31m \u001b[0;32mfrom\u001b[0m \u001b[0mCesiumWidget\u001b[0m\u001b[0;34m.\u001b[0m\u001b[0mexamples\u001b[0m\u001b[0;34m.\u001b[0m\u001b[0miss\u001b[0m \u001b[0;32mimport\u001b[0m \u001b[0mISS\u001b[0m\u001b[0;34m\u001b[0m\u001b[0;34m\u001b[0m\u001b[0m\n\u001b[0m\u001b[1;32m      2\u001b[0m \u001b[0mcesium\u001b[0m\u001b[0;34m.\u001b[0m\u001b[0mczml\u001b[0m \u001b[0;34m=\u001b[0m \u001b[0mISS\u001b[0m\u001b[0;34m\u001b[0m\u001b[0;34m\u001b[0m\u001b[0m\n",
      "\u001b[0;31mModuleNotFoundError\u001b[0m: No module named 'CesiumWidget'"
     ]
    }
   ],
   "source": [
    "from CesiumWidget.examples.iss import ISS\n",
    "cesium.czml = ISS"
   ]
  },
  {
   "cell_type": "markdown",
   "metadata": {},
   "source": [
    "You can also use the excellent `czml` module to generate valid CZML: see an [example here](./CesiumWidget Example with CZML library.ipynb)."
   ]
  }
 ],
 "metadata": {
  "hide_input": false,
  "kernelspec": {
   "display_name": "Python 3",
   "language": "python",
   "name": "python3"
  },
  "language_info": {
   "codemirror_mode": {
    "name": "ipython",
    "version": 3
   },
   "file_extension": ".py",
   "mimetype": "text/x-python",
   "name": "python",
   "nbconvert_exporter": "python",
   "pygments_lexer": "ipython3",
   "version": "3.8.6"
  }
 },
 "nbformat": 4,
 "nbformat_minor": 4
}
