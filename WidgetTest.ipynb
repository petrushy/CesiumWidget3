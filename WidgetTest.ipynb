{
 "cells": [
  {
   "cell_type": "code",
   "execution_count": 19,
   "id": "civilian-means",
   "metadata": {},
   "outputs": [],
   "source": [
    "from cesiumwidget3 import example"
   ]
  },
  {
   "cell_type": "code",
   "execution_count": 20,
   "id": "obvious-lesbian",
   "metadata": {},
   "outputs": [],
   "source": [
    "hello_world = example.HelloWorld()"
   ]
  },
  {
   "cell_type": "code",
   "execution_count": 21,
   "id": "opposed-onion",
   "metadata": {},
   "outputs": [
    {
     "data": {
      "application/vnd.jupyter.widget-view+json": {
       "model_id": "7c6c8dbe6ecb402ba6d278812a3112af",
       "version_major": 2,
       "version_minor": 0
      },
      "text/plain": [
       "HelloWorld()"
      ]
     },
     "metadata": {},
     "output_type": "display_data"
    }
   ],
   "source": [
    "hello_world"
   ]
  },
  {
   "cell_type": "code",
   "execution_count": null,
   "id": "legal-execution",
   "metadata": {},
   "outputs": [],
   "source": []
  },
  {
   "cell_type": "code",
   "execution_count": null,
   "id": "organizational-colony",
   "metadata": {},
   "outputs": [],
   "source": []
  },
  {
   "cell_type": "code",
   "execution_count": null,
   "id": "cardiac-object",
   "metadata": {},
   "outputs": [],
   "source": []
  }
 ],
 "metadata": {
  "kernelspec": {
   "display_name": "Python 3",
   "language": "python",
   "name": "python3"
  },
  "language_info": {
   "codemirror_mode": {
    "name": "ipython",
    "version": 3
   },
   "file_extension": ".py",
   "mimetype": "text/x-python",
   "name": "python",
   "nbconvert_exporter": "python",
   "pygments_lexer": "ipython3",
   "version": "3.8.6"
  }
 },
 "nbformat": 4,
 "nbformat_minor": 5
}
